{
 "cells": [
  {
   "cell_type": "code",
   "execution_count": 41,
   "metadata": {
    "id": "gZhqxpznOZWS"
   },
   "outputs": [],
   "source": [
    "import pandas as pd\n",
    "import numpy as np\n",
    "import requests\n",
    "import bs4 as bs\n",
    "import urllib.request"
   ]
  },
  {
   "cell_type": "markdown",
   "metadata": {
    "id": "xhXPbpjhOZWT"
   },
   "source": [
    "## Extracting features of 2020 movies from Wikipedia"
   ]
  },
  {
   "cell_type": "code",
   "execution_count": 42,
   "metadata": {
    "id": "1o9WJASWOZWT"
   },
   "outputs": [],
   "source": [
    "link = \"https://en.wikipedia.org/wiki/List_of_American_films_of_2020\""
   ]
  },
  {
   "cell_type": "code",
   "execution_count": 43,
   "metadata": {
    "id": "TIlfZhgwOZWT"
   },
   "outputs": [],
   "source": [
    "source = urllib.request.urlopen(link).read()\n",
    "soup = bs.BeautifulSoup(source,'lxml')"
   ]
  },
  {
   "cell_type": "code",
   "execution_count": 44,
   "metadata": {
    "id": "LFytQ2MaOZWT"
   },
   "outputs": [],
   "source": [
    "tables = soup.find_all('table',class_='wikitable sortable')"
   ]
  },
  {
   "cell_type": "code",
   "execution_count": 45,
   "metadata": {
    "colab": {
     "base_uri": "https://localhost:8080/"
    },
    "id": "CdSLuBzGOZWT",
    "outputId": "a59c27fc-00d2-4acd-e5c8-3dd746d78baa"
   },
   "outputs": [
    {
     "data": {
      "text/plain": [
       "4"
      ]
     },
     "execution_count": 45,
     "metadata": {},
     "output_type": "execute_result"
    }
   ],
   "source": [
    "len(tables)"
   ]
  },
  {
   "cell_type": "code",
   "execution_count": 46,
   "metadata": {
    "colab": {
     "base_uri": "https://localhost:8080/"
    },
    "id": "VoX7c9O-OZWU",
    "outputId": "78637bfa-e750-4c01-df0a-c791c80097b3"
   },
   "outputs": [
    {
     "data": {
      "text/plain": [
       "bs4.element.Tag"
      ]
     },
     "execution_count": 46,
     "metadata": {},
     "output_type": "execute_result"
    }
   ],
   "source": [
    "type(tables[0])"
   ]
  },
  {
   "cell_type": "code",
   "execution_count": 47,
   "metadata": {
    "id": "1y2cECOMOZWU"
   },
   "outputs": [
    {
     "name": "stderr",
     "output_type": "stream",
     "text": [
      "C:\\Users\\admin\\AppData\\Local\\Temp\\ipykernel_15160\\2803005693.py:1: FutureWarning: Passing literal html to 'read_html' is deprecated and will be removed in a future version. To read from a literal string, wrap it in a 'StringIO' object.\n",
      "  df1 = pd.read_html(str(tables[0]))[0]\n",
      "C:\\Users\\admin\\AppData\\Local\\Temp\\ipykernel_15160\\2803005693.py:2: FutureWarning: Passing literal html to 'read_html' is deprecated and will be removed in a future version. To read from a literal string, wrap it in a 'StringIO' object.\n",
      "  df2 = pd.read_html(str(tables[1]))[0]\n",
      "C:\\Users\\admin\\AppData\\Local\\Temp\\ipykernel_15160\\2803005693.py:3: FutureWarning: Passing literal html to 'read_html' is deprecated and will be removed in a future version. To read from a literal string, wrap it in a 'StringIO' object.\n",
      "  df3 = pd.read_html(str(tables[2]))[0]\n",
      "C:\\Users\\admin\\AppData\\Local\\Temp\\ipykernel_15160\\2803005693.py:4: FutureWarning: Passing literal html to 'read_html' is deprecated and will be removed in a future version. To read from a literal string, wrap it in a 'StringIO' object.\n",
      "  df4 = pd.read_html(str(tables[3]).replace(\"'1\\\"\\'\",'\"1\"'))[0] # avoided \"ValueError: invalid literal for int() with base 10: '1\"'\n"
     ]
    }
   ],
   "source": [
    "df1 = pd.read_html(str(tables[0]))[0]\n",
    "df2 = pd.read_html(str(tables[1]))[0]\n",
    "df3 = pd.read_html(str(tables[2]))[0]\n",
    "df4 = pd.read_html(str(tables[3]).replace(\"'1\\\"\\'\",'\"1\"'))[0] # avoided \"ValueError: invalid literal for int() with base 10: '1\"'"
   ]
  },
  {
   "cell_type": "code",
   "execution_count": 48,
   "metadata": {
    "id": "t4MN1gZbOZWU"
   },
   "outputs": [],
   "source": [
    "df = df1._append(df2._append(df3._append(df4,ignore_index=True),ignore_index=True),ignore_index=True)"
   ]
  },
  {
   "cell_type": "code",
   "execution_count": 49,
   "metadata": {
    "colab": {
     "base_uri": "https://localhost:8080/",
     "height": 406
    },
    "id": "4CCunB-rOZWU",
    "outputId": "a4d69bcd-088c-4655-a445-e8ebafdb10e6"
   },
   "outputs": [
    {
     "data": {
      "text/html": [
       "<div>\n",
       "<style scoped>\n",
       "    .dataframe tbody tr th:only-of-type {\n",
       "        vertical-align: middle;\n",
       "    }\n",
       "\n",
       "    .dataframe tbody tr th {\n",
       "        vertical-align: top;\n",
       "    }\n",
       "\n",
       "    .dataframe thead th {\n",
       "        text-align: right;\n",
       "    }\n",
       "</style>\n",
       "<table border=\"1\" class=\"dataframe\">\n",
       "  <thead>\n",
       "    <tr style=\"text-align: right;\">\n",
       "      <th></th>\n",
       "      <th>Opening</th>\n",
       "      <th>Opening.1</th>\n",
       "      <th>Title</th>\n",
       "      <th>Production company</th>\n",
       "      <th>Cast and crew</th>\n",
       "      <th>Ref.</th>\n",
       "    </tr>\n",
       "  </thead>\n",
       "  <tbody>\n",
       "    <tr>\n",
       "      <th>0</th>\n",
       "      <td>J A N U A R Y</td>\n",
       "      <td>3</td>\n",
       "      <td>The Grudge</td>\n",
       "      <td>Screen Gems / Stage 6 Films / Ghost House Pict...</td>\n",
       "      <td>Nicolas Pesce (director/screenplay); Andrea Ri...</td>\n",
       "      <td>[2]</td>\n",
       "    </tr>\n",
       "    <tr>\n",
       "      <th>1</th>\n",
       "      <td>J A N U A R Y</td>\n",
       "      <td>10</td>\n",
       "      <td>Underwater</td>\n",
       "      <td>20th Century Fox / TSG Entertainment / Chernin...</td>\n",
       "      <td>William Eubank (director); Brian Duffield, Ada...</td>\n",
       "      <td>[3]</td>\n",
       "    </tr>\n",
       "    <tr>\n",
       "      <th>2</th>\n",
       "      <td>J A N U A R Y</td>\n",
       "      <td>10</td>\n",
       "      <td>Like a Boss</td>\n",
       "      <td>Paramount Pictures / Artists First</td>\n",
       "      <td>Miguel Arteta (director); Sam Pitman, Adam Col...</td>\n",
       "      <td>[4]</td>\n",
       "    </tr>\n",
       "    <tr>\n",
       "      <th>3</th>\n",
       "      <td>J A N U A R Y</td>\n",
       "      <td>10</td>\n",
       "      <td>Three Christs</td>\n",
       "      <td>IFC Films</td>\n",
       "      <td>Jon Avnet (director/screenplay); Eric Nazarian...</td>\n",
       "      <td>NaN</td>\n",
       "    </tr>\n",
       "    <tr>\n",
       "      <th>4</th>\n",
       "      <td>J A N U A R Y</td>\n",
       "      <td>10</td>\n",
       "      <td>Inherit the Viper</td>\n",
       "      <td>Barry Films / Tycor International Film Company</td>\n",
       "      <td>Anthony Jerjen (director); Andrew Crabtree (sc...</td>\n",
       "      <td>[5]</td>\n",
       "    </tr>\n",
       "    <tr>\n",
       "      <th>...</th>\n",
       "      <td>...</td>\n",
       "      <td>...</td>\n",
       "      <td>...</td>\n",
       "      <td>...</td>\n",
       "      <td>...</td>\n",
       "      <td>...</td>\n",
       "    </tr>\n",
       "    <tr>\n",
       "      <th>270</th>\n",
       "      <td>D E C E M B E R</td>\n",
       "      <td>25</td>\n",
       "      <td>We Can Be Heroes</td>\n",
       "      <td>Netflix / Troublemaker Studios / Double R Prod...</td>\n",
       "      <td>Robert Rodriguez (director/screenplay); Priyan...</td>\n",
       "      <td>[242]</td>\n",
       "    </tr>\n",
       "    <tr>\n",
       "      <th>271</th>\n",
       "      <td>D E C E M B E R</td>\n",
       "      <td>25</td>\n",
       "      <td>News of the World</td>\n",
       "      <td>Universal Pictures / Perfect World Pictures</td>\n",
       "      <td>Paul Greengrass (director/screenplay); Luke Da...</td>\n",
       "      <td>[243]</td>\n",
       "    </tr>\n",
       "    <tr>\n",
       "      <th>272</th>\n",
       "      <td>D E C E M B E R</td>\n",
       "      <td>25</td>\n",
       "      <td>One Night in Miami...</td>\n",
       "      <td>Amazon Studios</td>\n",
       "      <td>Regina King (director); Kemp Powers (screenpla...</td>\n",
       "      <td>[244]</td>\n",
       "    </tr>\n",
       "    <tr>\n",
       "      <th>273</th>\n",
       "      <td>D E C E M B E R</td>\n",
       "      <td>25</td>\n",
       "      <td>Promising Young Woman</td>\n",
       "      <td>Focus Features / FilmNation Entertainment</td>\n",
       "      <td>Emerald Fennell (director/screenplay); Carey M...</td>\n",
       "      <td>[245]</td>\n",
       "    </tr>\n",
       "    <tr>\n",
       "      <th>274</th>\n",
       "      <td>D E C E M B E R</td>\n",
       "      <td>30</td>\n",
       "      <td>Pieces of a Woman</td>\n",
       "      <td>Netflix / Bron Studios</td>\n",
       "      <td>Kornél Mundruczó (director); Kata Wéber (scree...</td>\n",
       "      <td>[246]</td>\n",
       "    </tr>\n",
       "  </tbody>\n",
       "</table>\n",
       "<p>275 rows × 6 columns</p>\n",
       "</div>"
      ],
      "text/plain": [
       "             Opening  Opening.1                  Title  \\\n",
       "0      J A N U A R Y          3             The Grudge   \n",
       "1      J A N U A R Y         10             Underwater   \n",
       "2      J A N U A R Y         10            Like a Boss   \n",
       "3      J A N U A R Y         10          Three Christs   \n",
       "4      J A N U A R Y         10      Inherit the Viper   \n",
       "..               ...        ...                    ...   \n",
       "270  D E C E M B E R         25       We Can Be Heroes   \n",
       "271  D E C E M B E R         25      News of the World   \n",
       "272  D E C E M B E R         25  One Night in Miami...   \n",
       "273  D E C E M B E R         25  Promising Young Woman   \n",
       "274  D E C E M B E R         30      Pieces of a Woman   \n",
       "\n",
       "                                    Production company  \\\n",
       "0    Screen Gems / Stage 6 Films / Ghost House Pict...   \n",
       "1    20th Century Fox / TSG Entertainment / Chernin...   \n",
       "2                   Paramount Pictures / Artists First   \n",
       "3                                            IFC Films   \n",
       "4       Barry Films / Tycor International Film Company   \n",
       "..                                                 ...   \n",
       "270  Netflix / Troublemaker Studios / Double R Prod...   \n",
       "271        Universal Pictures / Perfect World Pictures   \n",
       "272                                     Amazon Studios   \n",
       "273          Focus Features / FilmNation Entertainment   \n",
       "274                             Netflix / Bron Studios   \n",
       "\n",
       "                                         Cast and crew   Ref.  \n",
       "0    Nicolas Pesce (director/screenplay); Andrea Ri...    [2]  \n",
       "1    William Eubank (director); Brian Duffield, Ada...    [3]  \n",
       "2    Miguel Arteta (director); Sam Pitman, Adam Col...    [4]  \n",
       "3    Jon Avnet (director/screenplay); Eric Nazarian...    NaN  \n",
       "4    Anthony Jerjen (director); Andrew Crabtree (sc...    [5]  \n",
       "..                                                 ...    ...  \n",
       "270  Robert Rodriguez (director/screenplay); Priyan...  [242]  \n",
       "271  Paul Greengrass (director/screenplay); Luke Da...  [243]  \n",
       "272  Regina King (director); Kemp Powers (screenpla...  [244]  \n",
       "273  Emerald Fennell (director/screenplay); Carey M...  [245]  \n",
       "274  Kornél Mundruczó (director); Kata Wéber (scree...  [246]  \n",
       "\n",
       "[275 rows x 6 columns]"
      ]
     },
     "execution_count": 49,
     "metadata": {},
     "output_type": "execute_result"
    }
   ],
   "source": [
    "df"
   ]
  },
  {
   "cell_type": "code",
   "execution_count": 50,
   "metadata": {
    "id": "9enI6QkuOZWV"
   },
   "outputs": [],
   "source": [
    "df_2020 = df[['Title','Cast and crew']]"
   ]
  },
  {
   "cell_type": "code",
   "execution_count": 51,
   "metadata": {
    "colab": {
     "base_uri": "https://localhost:8080/",
     "height": 406
    },
    "id": "RT0jPJQQOZWV",
    "outputId": "2d6ab58f-996f-4099-e7bb-3e29abadf43c"
   },
   "outputs": [
    {
     "data": {
      "text/html": [
       "<div>\n",
       "<style scoped>\n",
       "    .dataframe tbody tr th:only-of-type {\n",
       "        vertical-align: middle;\n",
       "    }\n",
       "\n",
       "    .dataframe tbody tr th {\n",
       "        vertical-align: top;\n",
       "    }\n",
       "\n",
       "    .dataframe thead th {\n",
       "        text-align: right;\n",
       "    }\n",
       "</style>\n",
       "<table border=\"1\" class=\"dataframe\">\n",
       "  <thead>\n",
       "    <tr style=\"text-align: right;\">\n",
       "      <th></th>\n",
       "      <th>Title</th>\n",
       "      <th>Cast and crew</th>\n",
       "    </tr>\n",
       "  </thead>\n",
       "  <tbody>\n",
       "    <tr>\n",
       "      <th>0</th>\n",
       "      <td>The Grudge</td>\n",
       "      <td>Nicolas Pesce (director/screenplay); Andrea Ri...</td>\n",
       "    </tr>\n",
       "    <tr>\n",
       "      <th>1</th>\n",
       "      <td>Underwater</td>\n",
       "      <td>William Eubank (director); Brian Duffield, Ada...</td>\n",
       "    </tr>\n",
       "    <tr>\n",
       "      <th>2</th>\n",
       "      <td>Like a Boss</td>\n",
       "      <td>Miguel Arteta (director); Sam Pitman, Adam Col...</td>\n",
       "    </tr>\n",
       "    <tr>\n",
       "      <th>3</th>\n",
       "      <td>Three Christs</td>\n",
       "      <td>Jon Avnet (director/screenplay); Eric Nazarian...</td>\n",
       "    </tr>\n",
       "    <tr>\n",
       "      <th>4</th>\n",
       "      <td>Inherit the Viper</td>\n",
       "      <td>Anthony Jerjen (director); Andrew Crabtree (sc...</td>\n",
       "    </tr>\n",
       "    <tr>\n",
       "      <th>...</th>\n",
       "      <td>...</td>\n",
       "      <td>...</td>\n",
       "    </tr>\n",
       "    <tr>\n",
       "      <th>270</th>\n",
       "      <td>We Can Be Heroes</td>\n",
       "      <td>Robert Rodriguez (director/screenplay); Priyan...</td>\n",
       "    </tr>\n",
       "    <tr>\n",
       "      <th>271</th>\n",
       "      <td>News of the World</td>\n",
       "      <td>Paul Greengrass (director/screenplay); Luke Da...</td>\n",
       "    </tr>\n",
       "    <tr>\n",
       "      <th>272</th>\n",
       "      <td>One Night in Miami...</td>\n",
       "      <td>Regina King (director); Kemp Powers (screenpla...</td>\n",
       "    </tr>\n",
       "    <tr>\n",
       "      <th>273</th>\n",
       "      <td>Promising Young Woman</td>\n",
       "      <td>Emerald Fennell (director/screenplay); Carey M...</td>\n",
       "    </tr>\n",
       "    <tr>\n",
       "      <th>274</th>\n",
       "      <td>Pieces of a Woman</td>\n",
       "      <td>Kornél Mundruczó (director); Kata Wéber (scree...</td>\n",
       "    </tr>\n",
       "  </tbody>\n",
       "</table>\n",
       "<p>275 rows × 2 columns</p>\n",
       "</div>"
      ],
      "text/plain": [
       "                     Title                                      Cast and crew\n",
       "0               The Grudge  Nicolas Pesce (director/screenplay); Andrea Ri...\n",
       "1               Underwater  William Eubank (director); Brian Duffield, Ada...\n",
       "2              Like a Boss  Miguel Arteta (director); Sam Pitman, Adam Col...\n",
       "3            Three Christs  Jon Avnet (director/screenplay); Eric Nazarian...\n",
       "4        Inherit the Viper  Anthony Jerjen (director); Andrew Crabtree (sc...\n",
       "..                     ...                                                ...\n",
       "270       We Can Be Heroes  Robert Rodriguez (director/screenplay); Priyan...\n",
       "271      News of the World  Paul Greengrass (director/screenplay); Luke Da...\n",
       "272  One Night in Miami...  Regina King (director); Kemp Powers (screenpla...\n",
       "273  Promising Young Woman  Emerald Fennell (director/screenplay); Carey M...\n",
       "274      Pieces of a Woman  Kornél Mundruczó (director); Kata Wéber (scree...\n",
       "\n",
       "[275 rows x 2 columns]"
      ]
     },
     "execution_count": 51,
     "metadata": {},
     "output_type": "execute_result"
    }
   ],
   "source": [
    "df_2020"
   ]
  },
  {
   "cell_type": "code",
   "execution_count": 52,
   "metadata": {
    "colab": {
     "base_uri": "https://localhost:8080/"
    },
    "id": "KYTIVryiOkeW",
    "outputId": "629f16ee-2aa7-4b7f-8393-09afdefef5d5"
   },
   "outputs": [
    {
     "name": "stdout",
     "output_type": "stream",
     "text": [
      "Requirement already satisfied: tmdbv3api in c:\\users\\admin\\appdata\\local\\programs\\python\\python311\\lib\\site-packages (1.6.1)\n",
      "Requirement already satisfied: requests in c:\\users\\admin\\appdata\\local\\programs\\python\\python311\\lib\\site-packages (from tmdbv3api) (2.31.0)\n",
      "Requirement already satisfied: charset-normalizer<4,>=2 in c:\\users\\admin\\appdata\\local\\programs\\python\\python311\\lib\\site-packages (from requests->tmdbv3api) (3.2.0)\n",
      "Requirement already satisfied: idna<4,>=2.5 in c:\\users\\admin\\appdata\\local\\programs\\python\\python311\\lib\\site-packages (from requests->tmdbv3api) (3.4)\n",
      "Requirement already satisfied: urllib3<3,>=1.21.1 in c:\\users\\admin\\appdata\\local\\programs\\python\\python311\\lib\\site-packages (from requests->tmdbv3api) (2.0.4)\n",
      "Requirement already satisfied: certifi>=2017.4.17 in c:\\users\\admin\\appdata\\local\\programs\\python\\python311\\lib\\site-packages (from requests->tmdbv3api) (2023.7.22)\n"
     ]
    }
   ],
   "source": [
    "!pip install tmdbv3api"
   ]
  },
  {
   "cell_type": "code",
   "execution_count": 53,
   "metadata": {
    "id": "61XvcEzPOZWV"
   },
   "outputs": [],
   "source": [
    "from tmdbv3api import TMDb\n",
    "import json\n",
    "import requests\n",
    "tmdb = TMDb()\n",
    "tmdb.api_key = 'API_Key'"
   ]
  },
  {
   "cell_type": "code",
   "execution_count": 54,
   "metadata": {
    "id": "_4q66M86OfgF"
   },
   "outputs": [],
   "source": [
    "from tmdbv3api import Movie\n",
    "tmdb_movie = Movie() \n",
    "def get_genre(x):\n",
    "    genres = []\n",
    "    result = tmdb_movie.search(x)\n",
    "    if (result):\n",
    "        if not result:\n",
    "          return np.NaN\n",
    "        else:\n",
    "          movie_id = str(result[0].id)\n",
    "          response = requests.get('https://api.themoviedb.org/3/movie/{}?api_key={}'.format(movie_id,tmdb.api_key))\n",
    "          data_json = response.json()\n",
    "          if data_json['genres']:\n",
    "              genre_str = \" \" \n",
    "              for i in range(0,len(data_json['genres'])):\n",
    "                  genres.append(data_json['genres'][i]['name'])\n",
    "              return genre_str.join(genres)\n",
    "          else:\n",
    "              return np.NaN\n",
    "    else:\n",
    "        return np.NaN"
   ]
  },
  {
   "cell_type": "code",
   "execution_count": 55,
   "metadata": {
    "colab": {
     "base_uri": "https://localhost:8080/"
    },
    "id": "uSjX4AsmOZWV",
    "outputId": "da21d28b-1f7a-4171-8b87-2eabcc897a8d",
    "scrolled": true
   },
   "outputs": [
    {
     "name": "stderr",
     "output_type": "stream",
     "text": [
      "C:\\Users\\admin\\AppData\\Local\\Temp\\ipykernel_15160\\2588226551.py:1: SettingWithCopyWarning: \n",
      "A value is trying to be set on a copy of a slice from a DataFrame.\n",
      "Try using .loc[row_indexer,col_indexer] = value instead\n",
      "\n",
      "See the caveats in the documentation: https://pandas.pydata.org/pandas-docs/stable/user_guide/indexing.html#returning-a-view-versus-a-copy\n",
      "  df_2020['genres'] = df_2020['Title'].map(lambda x: get_genre(str(x)))\n"
     ]
    }
   ],
   "source": [
    "df_2020['genres'] = df_2020['Title'].map(lambda x: get_genre(str(x)))"
   ]
  },
  {
   "cell_type": "code",
   "execution_count": 56,
   "metadata": {
    "colab": {
     "base_uri": "https://localhost:8080/",
     "height": 406
    },
    "id": "aiwOqJZMOZWV",
    "outputId": "032dfad5-985e-4d24-9fed-ed92c9edfba3"
   },
   "outputs": [
    {
     "data": {
      "text/html": [
       "<div>\n",
       "<style scoped>\n",
       "    .dataframe tbody tr th:only-of-type {\n",
       "        vertical-align: middle;\n",
       "    }\n",
       "\n",
       "    .dataframe tbody tr th {\n",
       "        vertical-align: top;\n",
       "    }\n",
       "\n",
       "    .dataframe thead th {\n",
       "        text-align: right;\n",
       "    }\n",
       "</style>\n",
       "<table border=\"1\" class=\"dataframe\">\n",
       "  <thead>\n",
       "    <tr style=\"text-align: right;\">\n",
       "      <th></th>\n",
       "      <th>Title</th>\n",
       "      <th>Cast and crew</th>\n",
       "      <th>genres</th>\n",
       "    </tr>\n",
       "  </thead>\n",
       "  <tbody>\n",
       "    <tr>\n",
       "      <th>0</th>\n",
       "      <td>The Grudge</td>\n",
       "      <td>Nicolas Pesce (director/screenplay); Andrea Ri...</td>\n",
       "      <td>Horror Mystery</td>\n",
       "    </tr>\n",
       "    <tr>\n",
       "      <th>1</th>\n",
       "      <td>Underwater</td>\n",
       "      <td>William Eubank (director); Brian Duffield, Ada...</td>\n",
       "      <td>Horror Science Fiction Action Adventure</td>\n",
       "    </tr>\n",
       "    <tr>\n",
       "      <th>2</th>\n",
       "      <td>Like a Boss</td>\n",
       "      <td>Miguel Arteta (director); Sam Pitman, Adam Col...</td>\n",
       "      <td>Comedy</td>\n",
       "    </tr>\n",
       "    <tr>\n",
       "      <th>3</th>\n",
       "      <td>Three Christs</td>\n",
       "      <td>Jon Avnet (director/screenplay); Eric Nazarian...</td>\n",
       "      <td>Drama</td>\n",
       "    </tr>\n",
       "    <tr>\n",
       "      <th>4</th>\n",
       "      <td>Inherit the Viper</td>\n",
       "      <td>Anthony Jerjen (director); Andrew Crabtree (sc...</td>\n",
       "      <td>Crime Thriller Drama</td>\n",
       "    </tr>\n",
       "    <tr>\n",
       "      <th>...</th>\n",
       "      <td>...</td>\n",
       "      <td>...</td>\n",
       "      <td>...</td>\n",
       "    </tr>\n",
       "    <tr>\n",
       "      <th>270</th>\n",
       "      <td>We Can Be Heroes</td>\n",
       "      <td>Robert Rodriguez (director/screenplay); Priyan...</td>\n",
       "      <td>Family Action Fantasy Comedy</td>\n",
       "    </tr>\n",
       "    <tr>\n",
       "      <th>271</th>\n",
       "      <td>News of the World</td>\n",
       "      <td>Paul Greengrass (director/screenplay); Luke Da...</td>\n",
       "      <td>Drama Western Adventure</td>\n",
       "    </tr>\n",
       "    <tr>\n",
       "      <th>272</th>\n",
       "      <td>One Night in Miami...</td>\n",
       "      <td>Regina King (director); Kemp Powers (screenpla...</td>\n",
       "      <td>Drama</td>\n",
       "    </tr>\n",
       "    <tr>\n",
       "      <th>273</th>\n",
       "      <td>Promising Young Woman</td>\n",
       "      <td>Emerald Fennell (director/screenplay); Carey M...</td>\n",
       "      <td>Thriller Crime Drama</td>\n",
       "    </tr>\n",
       "    <tr>\n",
       "      <th>274</th>\n",
       "      <td>Pieces of a Woman</td>\n",
       "      <td>Kornél Mundruczó (director); Kata Wéber (scree...</td>\n",
       "      <td>Drama</td>\n",
       "    </tr>\n",
       "  </tbody>\n",
       "</table>\n",
       "<p>275 rows × 3 columns</p>\n",
       "</div>"
      ],
      "text/plain": [
       "                     Title                                      Cast and crew  \\\n",
       "0               The Grudge  Nicolas Pesce (director/screenplay); Andrea Ri...   \n",
       "1               Underwater  William Eubank (director); Brian Duffield, Ada...   \n",
       "2              Like a Boss  Miguel Arteta (director); Sam Pitman, Adam Col...   \n",
       "3            Three Christs  Jon Avnet (director/screenplay); Eric Nazarian...   \n",
       "4        Inherit the Viper  Anthony Jerjen (director); Andrew Crabtree (sc...   \n",
       "..                     ...                                                ...   \n",
       "270       We Can Be Heroes  Robert Rodriguez (director/screenplay); Priyan...   \n",
       "271      News of the World  Paul Greengrass (director/screenplay); Luke Da...   \n",
       "272  One Night in Miami...  Regina King (director); Kemp Powers (screenpla...   \n",
       "273  Promising Young Woman  Emerald Fennell (director/screenplay); Carey M...   \n",
       "274      Pieces of a Woman  Kornél Mundruczó (director); Kata Wéber (scree...   \n",
       "\n",
       "                                      genres  \n",
       "0                             Horror Mystery  \n",
       "1    Horror Science Fiction Action Adventure  \n",
       "2                                     Comedy  \n",
       "3                                      Drama  \n",
       "4                       Crime Thriller Drama  \n",
       "..                                       ...  \n",
       "270             Family Action Fantasy Comedy  \n",
       "271                  Drama Western Adventure  \n",
       "272                                    Drama  \n",
       "273                     Thriller Crime Drama  \n",
       "274                                    Drama  \n",
       "\n",
       "[275 rows x 3 columns]"
      ]
     },
     "execution_count": 56,
     "metadata": {},
     "output_type": "execute_result"
    }
   ],
   "source": [
    "df_2020"
   ]
  },
  {
   "cell_type": "code",
   "execution_count": 57,
   "metadata": {
    "id": "GcqUuFyiOZWW"
   },
   "outputs": [],
   "source": [
    "def get_director(x):\n",
    "    if \" (director)\" in x:\n",
    "        return x.split(\" (director)\")[0]\n",
    "    elif \" (directors)\" in x:\n",
    "        return x.split(\" (directors)\")[0]\n",
    "    else:\n",
    "        return x.split(\" (director/screenplay)\")[0]"
   ]
  },
  {
   "cell_type": "code",
   "execution_count": 58,
   "metadata": {
    "colab": {
     "base_uri": "https://localhost:8080/"
    },
    "id": "A7RzXkBQOZWW",
    "outputId": "161deb48-6037-468b-c4b4-44cd51d0efc1"
   },
   "outputs": [
    {
     "name": "stderr",
     "output_type": "stream",
     "text": [
      "C:\\Users\\admin\\AppData\\Local\\Temp\\ipykernel_15160\\3848435694.py:1: SettingWithCopyWarning: \n",
      "A value is trying to be set on a copy of a slice from a DataFrame.\n",
      "Try using .loc[row_indexer,col_indexer] = value instead\n",
      "\n",
      "See the caveats in the documentation: https://pandas.pydata.org/pandas-docs/stable/user_guide/indexing.html#returning-a-view-versus-a-copy\n",
      "  df_2020['director_name'] = df_2020['Cast and crew'].map(lambda x: get_director(str(x)))\n"
     ]
    }
   ],
   "source": [
    "df_2020['director_name'] = df_2020['Cast and crew'].map(lambda x: get_director(str(x)))"
   ]
  },
  {
   "cell_type": "code",
   "execution_count": 59,
   "metadata": {
    "id": "wwBWFgBSOZWW"
   },
   "outputs": [],
   "source": [
    "def get_actor1(x):\n",
    "    return ((x.split(\"screenplay); \")[-1]).split(\", \")[0])"
   ]
  },
  {
   "cell_type": "code",
   "execution_count": 60,
   "metadata": {
    "colab": {
     "base_uri": "https://localhost:8080/"
    },
    "id": "gxr9Y4IJOZWW",
    "outputId": "68904c09-7d50-424d-e908-804489e84d05"
   },
   "outputs": [
    {
     "name": "stderr",
     "output_type": "stream",
     "text": [
      "C:\\Users\\admin\\AppData\\Local\\Temp\\ipykernel_15160\\3646981363.py:1: SettingWithCopyWarning: \n",
      "A value is trying to be set on a copy of a slice from a DataFrame.\n",
      "Try using .loc[row_indexer,col_indexer] = value instead\n",
      "\n",
      "See the caveats in the documentation: https://pandas.pydata.org/pandas-docs/stable/user_guide/indexing.html#returning-a-view-versus-a-copy\n",
      "  df_2020['actor_1_name'] = df_2020['Cast and crew'].map(lambda x: get_actor1(str(x)))\n"
     ]
    }
   ],
   "source": [
    "df_2020['actor_1_name'] = df_2020['Cast and crew'].map(lambda x: get_actor1(str(x)))"
   ]
  },
  {
   "cell_type": "code",
   "execution_count": 61,
   "metadata": {
    "id": "Qc7I49gVOZWX"
   },
   "outputs": [],
   "source": [
    "def get_actor2(x):\n",
    "    if len((x.split(\"screenplay); \")[-1]).split(\", \")) < 2:\n",
    "        return np.NaN\n",
    "    else:\n",
    "        return ((x.split(\"screenplay); \")[-1]).split(\", \")[1])"
   ]
  },
  {
   "cell_type": "code",
   "execution_count": 62,
   "metadata": {
    "id": "ipspWbjaOZWX"
   },
   "outputs": [],
   "source": [
    "df_2020['actor_2_name'] = df_2020['Cast and crew'].map(lambda x: get_actor2(str(x)))"
   ]
  },
  {
   "cell_type": "code",
   "execution_count": 63,
   "metadata": {
    "id": "pQmab5aiOZWX"
   },
   "outputs": [],
   "source": [
    "def get_actor3(x):\n",
    "    if len((x.split(\"screenplay); \")[-1]).split(\", \")) < 3:\n",
    "        return np.NaN\n",
    "    else:\n",
    "        return ((x.split(\"screenplay); \")[-1]).split(\", \")[2])"
   ]
  },
  {
   "cell_type": "code",
   "execution_count": 64,
   "metadata": {
    "id": "vWSs45LWOZWX"
   },
   "outputs": [],
   "source": [
    "df_2020['actor_3_name'] = df_2020['Cast and crew'].map(lambda x: get_actor3(str(x)))"
   ]
  },
  {
   "cell_type": "code",
   "execution_count": 65,
   "metadata": {
    "colab": {
     "base_uri": "https://localhost:8080/",
     "height": 406
    },
    "id": "2xDIRn7DOZWX",
    "outputId": "ad8d83b3-a608-43db-eeff-53a434ab3d4f"
   },
   "outputs": [
    {
     "data": {
      "text/html": [
       "<div>\n",
       "<style scoped>\n",
       "    .dataframe tbody tr th:only-of-type {\n",
       "        vertical-align: middle;\n",
       "    }\n",
       "\n",
       "    .dataframe tbody tr th {\n",
       "        vertical-align: top;\n",
       "    }\n",
       "\n",
       "    .dataframe thead th {\n",
       "        text-align: right;\n",
       "    }\n",
       "</style>\n",
       "<table border=\"1\" class=\"dataframe\">\n",
       "  <thead>\n",
       "    <tr style=\"text-align: right;\">\n",
       "      <th></th>\n",
       "      <th>Title</th>\n",
       "      <th>Cast and crew</th>\n",
       "      <th>genres</th>\n",
       "      <th>director_name</th>\n",
       "      <th>actor_1_name</th>\n",
       "      <th>actor_2_name</th>\n",
       "      <th>actor_3_name</th>\n",
       "    </tr>\n",
       "  </thead>\n",
       "  <tbody>\n",
       "    <tr>\n",
       "      <th>0</th>\n",
       "      <td>The Grudge</td>\n",
       "      <td>Nicolas Pesce (director/screenplay); Andrea Ri...</td>\n",
       "      <td>Horror Mystery</td>\n",
       "      <td>Nicolas Pesce</td>\n",
       "      <td>Andrea Riseborough</td>\n",
       "      <td>Demián Bichir</td>\n",
       "      <td>John Cho</td>\n",
       "    </tr>\n",
       "    <tr>\n",
       "      <th>1</th>\n",
       "      <td>Underwater</td>\n",
       "      <td>William Eubank (director); Brian Duffield, Ada...</td>\n",
       "      <td>Horror Science Fiction Action Adventure</td>\n",
       "      <td>William Eubank</td>\n",
       "      <td>Kristen Stewart</td>\n",
       "      <td>Vincent Cassel</td>\n",
       "      <td>Jessica Henwick</td>\n",
       "    </tr>\n",
       "    <tr>\n",
       "      <th>2</th>\n",
       "      <td>Like a Boss</td>\n",
       "      <td>Miguel Arteta (director); Sam Pitman, Adam Col...</td>\n",
       "      <td>Comedy</td>\n",
       "      <td>Miguel Arteta</td>\n",
       "      <td>Tiffany Haddish</td>\n",
       "      <td>Rose Byrne</td>\n",
       "      <td>Salma Hayek</td>\n",
       "    </tr>\n",
       "    <tr>\n",
       "      <th>3</th>\n",
       "      <td>Three Christs</td>\n",
       "      <td>Jon Avnet (director/screenplay); Eric Nazarian...</td>\n",
       "      <td>Drama</td>\n",
       "      <td>Jon Avnet</td>\n",
       "      <td>Richard Gere</td>\n",
       "      <td>Peter Dinklage</td>\n",
       "      <td>Walton Goggins</td>\n",
       "    </tr>\n",
       "    <tr>\n",
       "      <th>4</th>\n",
       "      <td>Inherit the Viper</td>\n",
       "      <td>Anthony Jerjen (director); Andrew Crabtree (sc...</td>\n",
       "      <td>Crime Thriller Drama</td>\n",
       "      <td>Anthony Jerjen</td>\n",
       "      <td>Josh Hartnett</td>\n",
       "      <td>Margarita Levieva</td>\n",
       "      <td>Chandler Riggs</td>\n",
       "    </tr>\n",
       "    <tr>\n",
       "      <th>...</th>\n",
       "      <td>...</td>\n",
       "      <td>...</td>\n",
       "      <td>...</td>\n",
       "      <td>...</td>\n",
       "      <td>...</td>\n",
       "      <td>...</td>\n",
       "      <td>...</td>\n",
       "    </tr>\n",
       "    <tr>\n",
       "      <th>270</th>\n",
       "      <td>We Can Be Heroes</td>\n",
       "      <td>Robert Rodriguez (director/screenplay); Priyan...</td>\n",
       "      <td>Family Action Fantasy Comedy</td>\n",
       "      <td>Robert Rodriguez</td>\n",
       "      <td>Priyanka Chopra Jonas</td>\n",
       "      <td>Pedro Pascal</td>\n",
       "      <td>YaYa Gosselin</td>\n",
       "    </tr>\n",
       "    <tr>\n",
       "      <th>271</th>\n",
       "      <td>News of the World</td>\n",
       "      <td>Paul Greengrass (director/screenplay); Luke Da...</td>\n",
       "      <td>Drama Western Adventure</td>\n",
       "      <td>Paul Greengrass</td>\n",
       "      <td>Tom Hanks</td>\n",
       "      <td>Helena Zengel</td>\n",
       "      <td>NaN</td>\n",
       "    </tr>\n",
       "    <tr>\n",
       "      <th>272</th>\n",
       "      <td>One Night in Miami...</td>\n",
       "      <td>Regina King (director); Kemp Powers (screenpla...</td>\n",
       "      <td>Drama</td>\n",
       "      <td>Regina King</td>\n",
       "      <td>Kingsley Ben-Adir</td>\n",
       "      <td>Eli Goree</td>\n",
       "      <td>Aldis Hodge</td>\n",
       "    </tr>\n",
       "    <tr>\n",
       "      <th>273</th>\n",
       "      <td>Promising Young Woman</td>\n",
       "      <td>Emerald Fennell (director/screenplay); Carey M...</td>\n",
       "      <td>Thriller Crime Drama</td>\n",
       "      <td>Emerald Fennell</td>\n",
       "      <td>Carey Mulligan</td>\n",
       "      <td>Bo Burnham</td>\n",
       "      <td>Alison Brie</td>\n",
       "    </tr>\n",
       "    <tr>\n",
       "      <th>274</th>\n",
       "      <td>Pieces of a Woman</td>\n",
       "      <td>Kornél Mundruczó (director); Kata Wéber (scree...</td>\n",
       "      <td>Drama</td>\n",
       "      <td>Kornél Mundruczó</td>\n",
       "      <td>Vanessa Kirby</td>\n",
       "      <td>Shia LaBeouf</td>\n",
       "      <td>Molly Parker</td>\n",
       "    </tr>\n",
       "  </tbody>\n",
       "</table>\n",
       "<p>275 rows × 7 columns</p>\n",
       "</div>"
      ],
      "text/plain": [
       "                     Title                                      Cast and crew  \\\n",
       "0               The Grudge  Nicolas Pesce (director/screenplay); Andrea Ri...   \n",
       "1               Underwater  William Eubank (director); Brian Duffield, Ada...   \n",
       "2              Like a Boss  Miguel Arteta (director); Sam Pitman, Adam Col...   \n",
       "3            Three Christs  Jon Avnet (director/screenplay); Eric Nazarian...   \n",
       "4        Inherit the Viper  Anthony Jerjen (director); Andrew Crabtree (sc...   \n",
       "..                     ...                                                ...   \n",
       "270       We Can Be Heroes  Robert Rodriguez (director/screenplay); Priyan...   \n",
       "271      News of the World  Paul Greengrass (director/screenplay); Luke Da...   \n",
       "272  One Night in Miami...  Regina King (director); Kemp Powers (screenpla...   \n",
       "273  Promising Young Woman  Emerald Fennell (director/screenplay); Carey M...   \n",
       "274      Pieces of a Woman  Kornél Mundruczó (director); Kata Wéber (scree...   \n",
       "\n",
       "                                      genres     director_name  \\\n",
       "0                             Horror Mystery     Nicolas Pesce   \n",
       "1    Horror Science Fiction Action Adventure    William Eubank   \n",
       "2                                     Comedy     Miguel Arteta   \n",
       "3                                      Drama         Jon Avnet   \n",
       "4                       Crime Thriller Drama    Anthony Jerjen   \n",
       "..                                       ...               ...   \n",
       "270             Family Action Fantasy Comedy  Robert Rodriguez   \n",
       "271                  Drama Western Adventure   Paul Greengrass   \n",
       "272                                    Drama       Regina King   \n",
       "273                     Thriller Crime Drama   Emerald Fennell   \n",
       "274                                    Drama  Kornél Mundruczó   \n",
       "\n",
       "              actor_1_name       actor_2_name     actor_3_name  \n",
       "0       Andrea Riseborough      Demián Bichir         John Cho  \n",
       "1          Kristen Stewart     Vincent Cassel  Jessica Henwick  \n",
       "2          Tiffany Haddish         Rose Byrne      Salma Hayek  \n",
       "3             Richard Gere     Peter Dinklage   Walton Goggins  \n",
       "4            Josh Hartnett  Margarita Levieva   Chandler Riggs  \n",
       "..                     ...                ...              ...  \n",
       "270  Priyanka Chopra Jonas       Pedro Pascal    YaYa Gosselin  \n",
       "271              Tom Hanks      Helena Zengel              NaN  \n",
       "272      Kingsley Ben-Adir          Eli Goree      Aldis Hodge  \n",
       "273         Carey Mulligan         Bo Burnham      Alison Brie  \n",
       "274          Vanessa Kirby       Shia LaBeouf     Molly Parker  \n",
       "\n",
       "[275 rows x 7 columns]"
      ]
     },
     "execution_count": 65,
     "metadata": {},
     "output_type": "execute_result"
    }
   ],
   "source": [
    "df_2020"
   ]
  },
  {
   "cell_type": "code",
   "execution_count": 66,
   "metadata": {
    "id": "rBUUnUtfOZWX"
   },
   "outputs": [],
   "source": [
    "df_2020 = df_2020.rename(columns={'Title':'movie_title'})"
   ]
  },
  {
   "cell_type": "code",
   "execution_count": 67,
   "metadata": {
    "id": "_WCWVlAqOZWX"
   },
   "outputs": [],
   "source": [
    "new_df20 = df_2020.loc[:,['director_name','actor_1_name','actor_2_name','actor_3_name','genres','movie_title']]"
   ]
  },
  {
   "cell_type": "code",
   "execution_count": 68,
   "metadata": {
    "colab": {
     "base_uri": "https://localhost:8080/",
     "height": 406
    },
    "id": "i7KBDmu_OZWX",
    "outputId": "6b4de81e-b1ac-4fb0-d349-52ae7c210346"
   },
   "outputs": [
    {
     "data": {
      "text/html": [
       "<div>\n",
       "<style scoped>\n",
       "    .dataframe tbody tr th:only-of-type {\n",
       "        vertical-align: middle;\n",
       "    }\n",
       "\n",
       "    .dataframe tbody tr th {\n",
       "        vertical-align: top;\n",
       "    }\n",
       "\n",
       "    .dataframe thead th {\n",
       "        text-align: right;\n",
       "    }\n",
       "</style>\n",
       "<table border=\"1\" class=\"dataframe\">\n",
       "  <thead>\n",
       "    <tr style=\"text-align: right;\">\n",
       "      <th></th>\n",
       "      <th>director_name</th>\n",
       "      <th>actor_1_name</th>\n",
       "      <th>actor_2_name</th>\n",
       "      <th>actor_3_name</th>\n",
       "      <th>genres</th>\n",
       "      <th>movie_title</th>\n",
       "    </tr>\n",
       "  </thead>\n",
       "  <tbody>\n",
       "    <tr>\n",
       "      <th>0</th>\n",
       "      <td>Nicolas Pesce</td>\n",
       "      <td>Andrea Riseborough</td>\n",
       "      <td>Demián Bichir</td>\n",
       "      <td>John Cho</td>\n",
       "      <td>Horror Mystery</td>\n",
       "      <td>The Grudge</td>\n",
       "    </tr>\n",
       "    <tr>\n",
       "      <th>1</th>\n",
       "      <td>William Eubank</td>\n",
       "      <td>Kristen Stewart</td>\n",
       "      <td>Vincent Cassel</td>\n",
       "      <td>Jessica Henwick</td>\n",
       "      <td>Horror Science Fiction Action Adventure</td>\n",
       "      <td>Underwater</td>\n",
       "    </tr>\n",
       "    <tr>\n",
       "      <th>2</th>\n",
       "      <td>Miguel Arteta</td>\n",
       "      <td>Tiffany Haddish</td>\n",
       "      <td>Rose Byrne</td>\n",
       "      <td>Salma Hayek</td>\n",
       "      <td>Comedy</td>\n",
       "      <td>Like a Boss</td>\n",
       "    </tr>\n",
       "    <tr>\n",
       "      <th>3</th>\n",
       "      <td>Jon Avnet</td>\n",
       "      <td>Richard Gere</td>\n",
       "      <td>Peter Dinklage</td>\n",
       "      <td>Walton Goggins</td>\n",
       "      <td>Drama</td>\n",
       "      <td>Three Christs</td>\n",
       "    </tr>\n",
       "    <tr>\n",
       "      <th>4</th>\n",
       "      <td>Anthony Jerjen</td>\n",
       "      <td>Josh Hartnett</td>\n",
       "      <td>Margarita Levieva</td>\n",
       "      <td>Chandler Riggs</td>\n",
       "      <td>Crime Thriller Drama</td>\n",
       "      <td>Inherit the Viper</td>\n",
       "    </tr>\n",
       "    <tr>\n",
       "      <th>...</th>\n",
       "      <td>...</td>\n",
       "      <td>...</td>\n",
       "      <td>...</td>\n",
       "      <td>...</td>\n",
       "      <td>...</td>\n",
       "      <td>...</td>\n",
       "    </tr>\n",
       "    <tr>\n",
       "      <th>270</th>\n",
       "      <td>Robert Rodriguez</td>\n",
       "      <td>Priyanka Chopra Jonas</td>\n",
       "      <td>Pedro Pascal</td>\n",
       "      <td>YaYa Gosselin</td>\n",
       "      <td>Family Action Fantasy Comedy</td>\n",
       "      <td>We Can Be Heroes</td>\n",
       "    </tr>\n",
       "    <tr>\n",
       "      <th>271</th>\n",
       "      <td>Paul Greengrass</td>\n",
       "      <td>Tom Hanks</td>\n",
       "      <td>Helena Zengel</td>\n",
       "      <td>NaN</td>\n",
       "      <td>Drama Western Adventure</td>\n",
       "      <td>News of the World</td>\n",
       "    </tr>\n",
       "    <tr>\n",
       "      <th>272</th>\n",
       "      <td>Regina King</td>\n",
       "      <td>Kingsley Ben-Adir</td>\n",
       "      <td>Eli Goree</td>\n",
       "      <td>Aldis Hodge</td>\n",
       "      <td>Drama</td>\n",
       "      <td>One Night in Miami...</td>\n",
       "    </tr>\n",
       "    <tr>\n",
       "      <th>273</th>\n",
       "      <td>Emerald Fennell</td>\n",
       "      <td>Carey Mulligan</td>\n",
       "      <td>Bo Burnham</td>\n",
       "      <td>Alison Brie</td>\n",
       "      <td>Thriller Crime Drama</td>\n",
       "      <td>Promising Young Woman</td>\n",
       "    </tr>\n",
       "    <tr>\n",
       "      <th>274</th>\n",
       "      <td>Kornél Mundruczó</td>\n",
       "      <td>Vanessa Kirby</td>\n",
       "      <td>Shia LaBeouf</td>\n",
       "      <td>Molly Parker</td>\n",
       "      <td>Drama</td>\n",
       "      <td>Pieces of a Woman</td>\n",
       "    </tr>\n",
       "  </tbody>\n",
       "</table>\n",
       "<p>275 rows × 6 columns</p>\n",
       "</div>"
      ],
      "text/plain": [
       "        director_name           actor_1_name       actor_2_name  \\\n",
       "0       Nicolas Pesce     Andrea Riseborough      Demián Bichir   \n",
       "1      William Eubank        Kristen Stewart     Vincent Cassel   \n",
       "2       Miguel Arteta        Tiffany Haddish         Rose Byrne   \n",
       "3           Jon Avnet           Richard Gere     Peter Dinklage   \n",
       "4      Anthony Jerjen          Josh Hartnett  Margarita Levieva   \n",
       "..                ...                    ...                ...   \n",
       "270  Robert Rodriguez  Priyanka Chopra Jonas       Pedro Pascal   \n",
       "271   Paul Greengrass              Tom Hanks      Helena Zengel   \n",
       "272       Regina King      Kingsley Ben-Adir          Eli Goree   \n",
       "273   Emerald Fennell         Carey Mulligan         Bo Burnham   \n",
       "274  Kornél Mundruczó          Vanessa Kirby       Shia LaBeouf   \n",
       "\n",
       "        actor_3_name                                   genres  \\\n",
       "0           John Cho                           Horror Mystery   \n",
       "1    Jessica Henwick  Horror Science Fiction Action Adventure   \n",
       "2        Salma Hayek                                   Comedy   \n",
       "3     Walton Goggins                                    Drama   \n",
       "4     Chandler Riggs                     Crime Thriller Drama   \n",
       "..               ...                                      ...   \n",
       "270    YaYa Gosselin             Family Action Fantasy Comedy   \n",
       "271              NaN                  Drama Western Adventure   \n",
       "272      Aldis Hodge                                    Drama   \n",
       "273      Alison Brie                     Thriller Crime Drama   \n",
       "274     Molly Parker                                    Drama   \n",
       "\n",
       "               movie_title  \n",
       "0               The Grudge  \n",
       "1               Underwater  \n",
       "2              Like a Boss  \n",
       "3            Three Christs  \n",
       "4        Inherit the Viper  \n",
       "..                     ...  \n",
       "270       We Can Be Heroes  \n",
       "271      News of the World  \n",
       "272  One Night in Miami...  \n",
       "273  Promising Young Woman  \n",
       "274      Pieces of a Woman  \n",
       "\n",
       "[275 rows x 6 columns]"
      ]
     },
     "execution_count": 68,
     "metadata": {},
     "output_type": "execute_result"
    }
   ],
   "source": [
    "new_df20"
   ]
  },
  {
   "cell_type": "code",
   "execution_count": 69,
   "metadata": {
    "id": "0s7XMhqzOZWY"
   },
   "outputs": [],
   "source": [
    "new_df20['comb'] = new_df20['actor_1_name'] + ' ' + new_df20['actor_2_name'] + ' '+ new_df20['actor_3_name'] + ' '+ new_df20['director_name'] +' ' + new_df20['genres']"
   ]
  },
  {
   "cell_type": "code",
   "execution_count": 70,
   "metadata": {
    "colab": {
     "base_uri": "https://localhost:8080/"
    },
    "id": "ta_KcPQJOZWY",
    "outputId": "ac6aa7b7-c156-49b2-9e95-3a76f971f5b1"
   },
   "outputs": [
    {
     "data": {
      "text/plain": [
       "director_name     0\n",
       "actor_1_name      0\n",
       "actor_2_name      5\n",
       "actor_3_name     28\n",
       "genres            2\n",
       "movie_title       0\n",
       "comb             29\n",
       "dtype: int64"
      ]
     },
     "execution_count": 70,
     "metadata": {},
     "output_type": "execute_result"
    }
   ],
   "source": [
    "new_df20.isna().sum()"
   ]
  },
  {
   "cell_type": "code",
   "execution_count": 71,
   "metadata": {
    "id": "DkKroG5GOZWY"
   },
   "outputs": [],
   "source": [
    "new_df20 = new_df20.dropna(how='any')"
   ]
  },
  {
   "cell_type": "code",
   "execution_count": 72,
   "metadata": {
    "colab": {
     "base_uri": "https://localhost:8080/"
    },
    "id": "YOIv1wvhOZWY",
    "outputId": "c3ad579e-16e2-4d8c-d4a0-71891d71b986"
   },
   "outputs": [
    {
     "data": {
      "text/plain": [
       "director_name    0\n",
       "actor_1_name     0\n",
       "actor_2_name     0\n",
       "actor_3_name     0\n",
       "genres           0\n",
       "movie_title      0\n",
       "comb             0\n",
       "dtype: int64"
      ]
     },
     "execution_count": 72,
     "metadata": {},
     "output_type": "execute_result"
    }
   ],
   "source": [
    "new_df20.isna().sum()"
   ]
  },
  {
   "cell_type": "code",
   "execution_count": 73,
   "metadata": {
    "colab": {
     "base_uri": "https://localhost:8080/"
    },
    "id": "IB3YmNWROZWY",
    "outputId": "8abccee1-4b9e-436b-de18-eb97298d73a9"
   },
   "outputs": [
    {
     "name": "stderr",
     "output_type": "stream",
     "text": [
      "C:\\Users\\admin\\AppData\\Local\\Temp\\ipykernel_15160\\2267385682.py:1: SettingWithCopyWarning: \n",
      "A value is trying to be set on a copy of a slice from a DataFrame.\n",
      "Try using .loc[row_indexer,col_indexer] = value instead\n",
      "\n",
      "See the caveats in the documentation: https://pandas.pydata.org/pandas-docs/stable/user_guide/indexing.html#returning-a-view-versus-a-copy\n",
      "  new_df20['movie_title'] = new_df20['movie_title'].str.lower()\n"
     ]
    }
   ],
   "source": [
    "new_df20['movie_title'] = new_df20['movie_title'].str.lower()"
   ]
  },
  {
   "cell_type": "code",
   "execution_count": 74,
   "metadata": {
    "colab": {
     "base_uri": "https://localhost:8080/",
     "height": 406
    },
    "id": "3e3NnY70OZWZ",
    "outputId": "cf4351f9-93f7-40bc-cc24-ab9e45bd8358"
   },
   "outputs": [
    {
     "data": {
      "text/html": [
       "<div>\n",
       "<style scoped>\n",
       "    .dataframe tbody tr th:only-of-type {\n",
       "        vertical-align: middle;\n",
       "    }\n",
       "\n",
       "    .dataframe tbody tr th {\n",
       "        vertical-align: top;\n",
       "    }\n",
       "\n",
       "    .dataframe thead th {\n",
       "        text-align: right;\n",
       "    }\n",
       "</style>\n",
       "<table border=\"1\" class=\"dataframe\">\n",
       "  <thead>\n",
       "    <tr style=\"text-align: right;\">\n",
       "      <th></th>\n",
       "      <th>director_name</th>\n",
       "      <th>actor_1_name</th>\n",
       "      <th>actor_2_name</th>\n",
       "      <th>actor_3_name</th>\n",
       "      <th>genres</th>\n",
       "      <th>movie_title</th>\n",
       "      <th>comb</th>\n",
       "    </tr>\n",
       "  </thead>\n",
       "  <tbody>\n",
       "    <tr>\n",
       "      <th>0</th>\n",
       "      <td>Nicolas Pesce</td>\n",
       "      <td>Andrea Riseborough</td>\n",
       "      <td>Demián Bichir</td>\n",
       "      <td>John Cho</td>\n",
       "      <td>Horror Mystery</td>\n",
       "      <td>the grudge</td>\n",
       "      <td>Andrea Riseborough Demián Bichir John Cho Nico...</td>\n",
       "    </tr>\n",
       "    <tr>\n",
       "      <th>1</th>\n",
       "      <td>William Eubank</td>\n",
       "      <td>Kristen Stewart</td>\n",
       "      <td>Vincent Cassel</td>\n",
       "      <td>Jessica Henwick</td>\n",
       "      <td>Horror Science Fiction Action Adventure</td>\n",
       "      <td>underwater</td>\n",
       "      <td>Kristen Stewart Vincent Cassel Jessica Henwick...</td>\n",
       "    </tr>\n",
       "    <tr>\n",
       "      <th>2</th>\n",
       "      <td>Miguel Arteta</td>\n",
       "      <td>Tiffany Haddish</td>\n",
       "      <td>Rose Byrne</td>\n",
       "      <td>Salma Hayek</td>\n",
       "      <td>Comedy</td>\n",
       "      <td>like a boss</td>\n",
       "      <td>Tiffany Haddish Rose Byrne Salma Hayek Miguel ...</td>\n",
       "    </tr>\n",
       "    <tr>\n",
       "      <th>3</th>\n",
       "      <td>Jon Avnet</td>\n",
       "      <td>Richard Gere</td>\n",
       "      <td>Peter Dinklage</td>\n",
       "      <td>Walton Goggins</td>\n",
       "      <td>Drama</td>\n",
       "      <td>three christs</td>\n",
       "      <td>Richard Gere Peter Dinklage Walton Goggins Jon...</td>\n",
       "    </tr>\n",
       "    <tr>\n",
       "      <th>4</th>\n",
       "      <td>Anthony Jerjen</td>\n",
       "      <td>Josh Hartnett</td>\n",
       "      <td>Margarita Levieva</td>\n",
       "      <td>Chandler Riggs</td>\n",
       "      <td>Crime Thriller Drama</td>\n",
       "      <td>inherit the viper</td>\n",
       "      <td>Josh Hartnett Margarita Levieva Chandler Riggs...</td>\n",
       "    </tr>\n",
       "    <tr>\n",
       "      <th>...</th>\n",
       "      <td>...</td>\n",
       "      <td>...</td>\n",
       "      <td>...</td>\n",
       "      <td>...</td>\n",
       "      <td>...</td>\n",
       "      <td>...</td>\n",
       "      <td>...</td>\n",
       "    </tr>\n",
       "    <tr>\n",
       "      <th>269</th>\n",
       "      <td>Pete Docter</td>\n",
       "      <td>Jamie Foxx</td>\n",
       "      <td>Tina Fey</td>\n",
       "      <td>Graham Norton</td>\n",
       "      <td>Animation Family Comedy Fantasy Drama</td>\n",
       "      <td>soul</td>\n",
       "      <td>Jamie Foxx Tina Fey Graham Norton Pete Docter ...</td>\n",
       "    </tr>\n",
       "    <tr>\n",
       "      <th>270</th>\n",
       "      <td>Robert Rodriguez</td>\n",
       "      <td>Priyanka Chopra Jonas</td>\n",
       "      <td>Pedro Pascal</td>\n",
       "      <td>YaYa Gosselin</td>\n",
       "      <td>Family Action Fantasy Comedy</td>\n",
       "      <td>we can be heroes</td>\n",
       "      <td>Priyanka Chopra Jonas Pedro Pascal YaYa Gossel...</td>\n",
       "    </tr>\n",
       "    <tr>\n",
       "      <th>272</th>\n",
       "      <td>Regina King</td>\n",
       "      <td>Kingsley Ben-Adir</td>\n",
       "      <td>Eli Goree</td>\n",
       "      <td>Aldis Hodge</td>\n",
       "      <td>Drama</td>\n",
       "      <td>one night in miami...</td>\n",
       "      <td>Kingsley Ben-Adir Eli Goree Aldis Hodge Regina...</td>\n",
       "    </tr>\n",
       "    <tr>\n",
       "      <th>273</th>\n",
       "      <td>Emerald Fennell</td>\n",
       "      <td>Carey Mulligan</td>\n",
       "      <td>Bo Burnham</td>\n",
       "      <td>Alison Brie</td>\n",
       "      <td>Thriller Crime Drama</td>\n",
       "      <td>promising young woman</td>\n",
       "      <td>Carey Mulligan Bo Burnham Alison Brie Emerald ...</td>\n",
       "    </tr>\n",
       "    <tr>\n",
       "      <th>274</th>\n",
       "      <td>Kornél Mundruczó</td>\n",
       "      <td>Vanessa Kirby</td>\n",
       "      <td>Shia LaBeouf</td>\n",
       "      <td>Molly Parker</td>\n",
       "      <td>Drama</td>\n",
       "      <td>pieces of a woman</td>\n",
       "      <td>Vanessa Kirby Shia LaBeouf Molly Parker Kornél...</td>\n",
       "    </tr>\n",
       "  </tbody>\n",
       "</table>\n",
       "<p>246 rows × 7 columns</p>\n",
       "</div>"
      ],
      "text/plain": [
       "        director_name           actor_1_name       actor_2_name  \\\n",
       "0       Nicolas Pesce     Andrea Riseborough      Demián Bichir   \n",
       "1      William Eubank        Kristen Stewart     Vincent Cassel   \n",
       "2       Miguel Arteta        Tiffany Haddish         Rose Byrne   \n",
       "3           Jon Avnet           Richard Gere     Peter Dinklage   \n",
       "4      Anthony Jerjen          Josh Hartnett  Margarita Levieva   \n",
       "..                ...                    ...                ...   \n",
       "269       Pete Docter             Jamie Foxx           Tina Fey   \n",
       "270  Robert Rodriguez  Priyanka Chopra Jonas       Pedro Pascal   \n",
       "272       Regina King      Kingsley Ben-Adir          Eli Goree   \n",
       "273   Emerald Fennell         Carey Mulligan         Bo Burnham   \n",
       "274  Kornél Mundruczó          Vanessa Kirby       Shia LaBeouf   \n",
       "\n",
       "        actor_3_name                                   genres  \\\n",
       "0           John Cho                           Horror Mystery   \n",
       "1    Jessica Henwick  Horror Science Fiction Action Adventure   \n",
       "2        Salma Hayek                                   Comedy   \n",
       "3     Walton Goggins                                    Drama   \n",
       "4     Chandler Riggs                     Crime Thriller Drama   \n",
       "..               ...                                      ...   \n",
       "269    Graham Norton    Animation Family Comedy Fantasy Drama   \n",
       "270    YaYa Gosselin             Family Action Fantasy Comedy   \n",
       "272      Aldis Hodge                                    Drama   \n",
       "273      Alison Brie                     Thriller Crime Drama   \n",
       "274     Molly Parker                                    Drama   \n",
       "\n",
       "               movie_title                                               comb  \n",
       "0               the grudge  Andrea Riseborough Demián Bichir John Cho Nico...  \n",
       "1               underwater  Kristen Stewart Vincent Cassel Jessica Henwick...  \n",
       "2              like a boss  Tiffany Haddish Rose Byrne Salma Hayek Miguel ...  \n",
       "3            three christs  Richard Gere Peter Dinklage Walton Goggins Jon...  \n",
       "4        inherit the viper  Josh Hartnett Margarita Levieva Chandler Riggs...  \n",
       "..                     ...                                                ...  \n",
       "269                   soul  Jamie Foxx Tina Fey Graham Norton Pete Docter ...  \n",
       "270       we can be heroes  Priyanka Chopra Jonas Pedro Pascal YaYa Gossel...  \n",
       "272  one night in miami...  Kingsley Ben-Adir Eli Goree Aldis Hodge Regina...  \n",
       "273  promising young woman  Carey Mulligan Bo Burnham Alison Brie Emerald ...  \n",
       "274      pieces of a woman  Vanessa Kirby Shia LaBeouf Molly Parker Kornél...  \n",
       "\n",
       "[246 rows x 7 columns]"
      ]
     },
     "execution_count": 74,
     "metadata": {},
     "output_type": "execute_result"
    }
   ],
   "source": [
    "new_df20"
   ]
  },
  {
   "cell_type": "code",
   "execution_count": 75,
   "metadata": {
    "id": "BCf9fH_4OZWZ"
   },
   "outputs": [],
   "source": [
    "old_df = pd.read_csv('final_data.csv')"
   ]
  },
  {
   "cell_type": "code",
   "execution_count": 76,
   "metadata": {
    "id": "ce2e426yOZWZ",
    "outputId": "7d2c0bd7-6907-4398-c385-829b04ad921e"
   },
   "outputs": [
    {
     "data": {
      "text/html": [
       "<div>\n",
       "<style scoped>\n",
       "    .dataframe tbody tr th:only-of-type {\n",
       "        vertical-align: middle;\n",
       "    }\n",
       "\n",
       "    .dataframe tbody tr th {\n",
       "        vertical-align: top;\n",
       "    }\n",
       "\n",
       "    .dataframe thead th {\n",
       "        text-align: right;\n",
       "    }\n",
       "</style>\n",
       "<table border=\"1\" class=\"dataframe\">\n",
       "  <thead>\n",
       "    <tr style=\"text-align: right;\">\n",
       "      <th></th>\n",
       "      <th>director_name</th>\n",
       "      <th>actor_1_name</th>\n",
       "      <th>actor_2_name</th>\n",
       "      <th>actor_3_name</th>\n",
       "      <th>genres</th>\n",
       "      <th>movie_title</th>\n",
       "      <th>comb</th>\n",
       "    </tr>\n",
       "  </thead>\n",
       "  <tbody>\n",
       "    <tr>\n",
       "      <th>0</th>\n",
       "      <td>James Cameron</td>\n",
       "      <td>CCH Pounder</td>\n",
       "      <td>Joel David Moore</td>\n",
       "      <td>Wes Studi</td>\n",
       "      <td>Action Adventure Fantasy Sci-Fi</td>\n",
       "      <td>avatar</td>\n",
       "      <td>CCH Pounder Joel David Moore Wes Studi James C...</td>\n",
       "    </tr>\n",
       "    <tr>\n",
       "      <th>1</th>\n",
       "      <td>Gore Verbinski</td>\n",
       "      <td>Johnny Depp</td>\n",
       "      <td>Orlando Bloom</td>\n",
       "      <td>Jack Davenport</td>\n",
       "      <td>Action Adventure Fantasy</td>\n",
       "      <td>pirates of the caribbean: at world's end</td>\n",
       "      <td>Johnny Depp Orlando Bloom Jack Davenport Gore ...</td>\n",
       "    </tr>\n",
       "    <tr>\n",
       "      <th>2</th>\n",
       "      <td>Sam Mendes</td>\n",
       "      <td>Christoph Waltz</td>\n",
       "      <td>Rory Kinnear</td>\n",
       "      <td>Stephanie Sigman</td>\n",
       "      <td>Action Adventure Thriller</td>\n",
       "      <td>spectre</td>\n",
       "      <td>Christoph Waltz Rory Kinnear Stephanie Sigman ...</td>\n",
       "    </tr>\n",
       "    <tr>\n",
       "      <th>3</th>\n",
       "      <td>Christopher Nolan</td>\n",
       "      <td>Tom Hardy</td>\n",
       "      <td>Christian Bale</td>\n",
       "      <td>Joseph Gordon-Levitt</td>\n",
       "      <td>Action Thriller</td>\n",
       "      <td>the dark knight rises</td>\n",
       "      <td>Tom Hardy Christian Bale Joseph Gordon-Levitt ...</td>\n",
       "    </tr>\n",
       "    <tr>\n",
       "      <th>4</th>\n",
       "      <td>Doug Walker</td>\n",
       "      <td>Doug Walker</td>\n",
       "      <td>Rob Walker</td>\n",
       "      <td>unknown</td>\n",
       "      <td>Documentary</td>\n",
       "      <td>star wars: episode vii - the force awakens    ...</td>\n",
       "      <td>Doug Walker Rob Walker unknown Doug Walker Doc...</td>\n",
       "    </tr>\n",
       "    <tr>\n",
       "      <th>...</th>\n",
       "      <td>...</td>\n",
       "      <td>...</td>\n",
       "      <td>...</td>\n",
       "      <td>...</td>\n",
       "      <td>...</td>\n",
       "      <td>...</td>\n",
       "      <td>...</td>\n",
       "    </tr>\n",
       "    <tr>\n",
       "      <th>5882</th>\n",
       "      <td>Nick Bruno, Troy Quane</td>\n",
       "      <td>Will Smith</td>\n",
       "      <td>Tom Holland</td>\n",
       "      <td>Rashida Jones</td>\n",
       "      <td>Animation Action Adventure Comedy Family</td>\n",
       "      <td>spies in disguise</td>\n",
       "      <td>Will Smith Tom Holland Rashida Jones Nick Brun...</td>\n",
       "    </tr>\n",
       "    <tr>\n",
       "      <th>5883</th>\n",
       "      <td>Greta Gerwig</td>\n",
       "      <td>Saoirse Ronan</td>\n",
       "      <td>Emma Watson</td>\n",
       "      <td>Florence Pugh</td>\n",
       "      <td>Drama Romance</td>\n",
       "      <td>little women</td>\n",
       "      <td>Saoirse Ronan Emma Watson Florence Pugh Greta ...</td>\n",
       "    </tr>\n",
       "    <tr>\n",
       "      <th>5884</th>\n",
       "      <td>Sam Mendes</td>\n",
       "      <td>George MacKay</td>\n",
       "      <td>Dean-Charles Chapman</td>\n",
       "      <td>Mark Strong</td>\n",
       "      <td>War Action Drama</td>\n",
       "      <td>1917</td>\n",
       "      <td>George MacKay Dean-Charles Chapman Mark Strong...</td>\n",
       "    </tr>\n",
       "    <tr>\n",
       "      <th>5885</th>\n",
       "      <td>Destin Daniel Cretton</td>\n",
       "      <td>Michael B. Jordan</td>\n",
       "      <td>Jamie Foxx</td>\n",
       "      <td>Brie Larson</td>\n",
       "      <td>Drama Crime History</td>\n",
       "      <td>just mercy</td>\n",
       "      <td>Michael B. Jordan Jamie Foxx Brie Larson Desti...</td>\n",
       "    </tr>\n",
       "    <tr>\n",
       "      <th>5886</th>\n",
       "      <td>Chinonye Chukwu</td>\n",
       "      <td>Alfre Woodard</td>\n",
       "      <td>Wendell Pierce</td>\n",
       "      <td>Aldis Hodge</td>\n",
       "      <td>Drama</td>\n",
       "      <td>clemency</td>\n",
       "      <td>Alfre Woodard Wendell Pierce Aldis Hodge Chino...</td>\n",
       "    </tr>\n",
       "  </tbody>\n",
       "</table>\n",
       "<p>5887 rows × 7 columns</p>\n",
       "</div>"
      ],
      "text/plain": [
       "               director_name       actor_1_name          actor_2_name  \\\n",
       "0              James Cameron        CCH Pounder      Joel David Moore   \n",
       "1             Gore Verbinski        Johnny Depp         Orlando Bloom   \n",
       "2                 Sam Mendes    Christoph Waltz          Rory Kinnear   \n",
       "3          Christopher Nolan          Tom Hardy        Christian Bale   \n",
       "4                Doug Walker        Doug Walker            Rob Walker   \n",
       "...                      ...                ...                   ...   \n",
       "5882  Nick Bruno, Troy Quane         Will Smith           Tom Holland   \n",
       "5883            Greta Gerwig      Saoirse Ronan           Emma Watson   \n",
       "5884              Sam Mendes      George MacKay  Dean-Charles Chapman   \n",
       "5885   Destin Daniel Cretton  Michael B. Jordan            Jamie Foxx   \n",
       "5886         Chinonye Chukwu      Alfre Woodard        Wendell Pierce   \n",
       "\n",
       "              actor_3_name                                    genres  \\\n",
       "0                Wes Studi           Action Adventure Fantasy Sci-Fi   \n",
       "1           Jack Davenport                  Action Adventure Fantasy   \n",
       "2         Stephanie Sigman                 Action Adventure Thriller   \n",
       "3     Joseph Gordon-Levitt                           Action Thriller   \n",
       "4                  unknown                               Documentary   \n",
       "...                    ...                                       ...   \n",
       "5882         Rashida Jones  Animation Action Adventure Comedy Family   \n",
       "5883         Florence Pugh                             Drama Romance   \n",
       "5884           Mark Strong                          War Action Drama   \n",
       "5885           Brie Larson                       Drama Crime History   \n",
       "5886           Aldis Hodge                                     Drama   \n",
       "\n",
       "                                            movie_title  \\\n",
       "0                                                avatar   \n",
       "1              pirates of the caribbean: at world's end   \n",
       "2                                               spectre   \n",
       "3                                 the dark knight rises   \n",
       "4     star wars: episode vii - the force awakens    ...   \n",
       "...                                                 ...   \n",
       "5882                                  spies in disguise   \n",
       "5883                                       little women   \n",
       "5884                                               1917   \n",
       "5885                                         just mercy   \n",
       "5886                                           clemency   \n",
       "\n",
       "                                                   comb  \n",
       "0     CCH Pounder Joel David Moore Wes Studi James C...  \n",
       "1     Johnny Depp Orlando Bloom Jack Davenport Gore ...  \n",
       "2     Christoph Waltz Rory Kinnear Stephanie Sigman ...  \n",
       "3     Tom Hardy Christian Bale Joseph Gordon-Levitt ...  \n",
       "4     Doug Walker Rob Walker unknown Doug Walker Doc...  \n",
       "...                                                 ...  \n",
       "5882  Will Smith Tom Holland Rashida Jones Nick Brun...  \n",
       "5883  Saoirse Ronan Emma Watson Florence Pugh Greta ...  \n",
       "5884  George MacKay Dean-Charles Chapman Mark Strong...  \n",
       "5885  Michael B. Jordan Jamie Foxx Brie Larson Desti...  \n",
       "5886  Alfre Woodard Wendell Pierce Aldis Hodge Chino...  \n",
       "\n",
       "[5887 rows x 7 columns]"
      ]
     },
     "execution_count": 76,
     "metadata": {},
     "output_type": "execute_result"
    }
   ],
   "source": [
    "old_df"
   ]
  },
  {
   "cell_type": "code",
   "execution_count": 77,
   "metadata": {
    "id": "P14B9e3GOZWZ"
   },
   "outputs": [],
   "source": [
    "final_df = old_df._append(new_df20,ignore_index=True)"
   ]
  },
  {
   "cell_type": "code",
   "execution_count": 78,
   "metadata": {
    "id": "0RAVcY-jOZWZ",
    "outputId": "0e87fe5f-5a7a-4792-edf3-a5027e667af0"
   },
   "outputs": [
    {
     "data": {
      "text/html": [
       "<div>\n",
       "<style scoped>\n",
       "    .dataframe tbody tr th:only-of-type {\n",
       "        vertical-align: middle;\n",
       "    }\n",
       "\n",
       "    .dataframe tbody tr th {\n",
       "        vertical-align: top;\n",
       "    }\n",
       "\n",
       "    .dataframe thead th {\n",
       "        text-align: right;\n",
       "    }\n",
       "</style>\n",
       "<table border=\"1\" class=\"dataframe\">\n",
       "  <thead>\n",
       "    <tr style=\"text-align: right;\">\n",
       "      <th></th>\n",
       "      <th>director_name</th>\n",
       "      <th>actor_1_name</th>\n",
       "      <th>actor_2_name</th>\n",
       "      <th>actor_3_name</th>\n",
       "      <th>genres</th>\n",
       "      <th>movie_title</th>\n",
       "      <th>comb</th>\n",
       "    </tr>\n",
       "  </thead>\n",
       "  <tbody>\n",
       "    <tr>\n",
       "      <th>0</th>\n",
       "      <td>James Cameron</td>\n",
       "      <td>CCH Pounder</td>\n",
       "      <td>Joel David Moore</td>\n",
       "      <td>Wes Studi</td>\n",
       "      <td>Action Adventure Fantasy Sci-Fi</td>\n",
       "      <td>avatar</td>\n",
       "      <td>CCH Pounder Joel David Moore Wes Studi James C...</td>\n",
       "    </tr>\n",
       "    <tr>\n",
       "      <th>1</th>\n",
       "      <td>Gore Verbinski</td>\n",
       "      <td>Johnny Depp</td>\n",
       "      <td>Orlando Bloom</td>\n",
       "      <td>Jack Davenport</td>\n",
       "      <td>Action Adventure Fantasy</td>\n",
       "      <td>pirates of the caribbean: at world's end</td>\n",
       "      <td>Johnny Depp Orlando Bloom Jack Davenport Gore ...</td>\n",
       "    </tr>\n",
       "    <tr>\n",
       "      <th>2</th>\n",
       "      <td>Sam Mendes</td>\n",
       "      <td>Christoph Waltz</td>\n",
       "      <td>Rory Kinnear</td>\n",
       "      <td>Stephanie Sigman</td>\n",
       "      <td>Action Adventure Thriller</td>\n",
       "      <td>spectre</td>\n",
       "      <td>Christoph Waltz Rory Kinnear Stephanie Sigman ...</td>\n",
       "    </tr>\n",
       "    <tr>\n",
       "      <th>3</th>\n",
       "      <td>Christopher Nolan</td>\n",
       "      <td>Tom Hardy</td>\n",
       "      <td>Christian Bale</td>\n",
       "      <td>Joseph Gordon-Levitt</td>\n",
       "      <td>Action Thriller</td>\n",
       "      <td>the dark knight rises</td>\n",
       "      <td>Tom Hardy Christian Bale Joseph Gordon-Levitt ...</td>\n",
       "    </tr>\n",
       "    <tr>\n",
       "      <th>4</th>\n",
       "      <td>Doug Walker</td>\n",
       "      <td>Doug Walker</td>\n",
       "      <td>Rob Walker</td>\n",
       "      <td>unknown</td>\n",
       "      <td>Documentary</td>\n",
       "      <td>star wars: episode vii - the force awakens    ...</td>\n",
       "      <td>Doug Walker Rob Walker unknown Doug Walker Doc...</td>\n",
       "    </tr>\n",
       "    <tr>\n",
       "      <th>...</th>\n",
       "      <td>...</td>\n",
       "      <td>...</td>\n",
       "      <td>...</td>\n",
       "      <td>...</td>\n",
       "      <td>...</td>\n",
       "      <td>...</td>\n",
       "      <td>...</td>\n",
       "    </tr>\n",
       "    <tr>\n",
       "      <th>6128</th>\n",
       "      <td>Pete Docter</td>\n",
       "      <td>Jamie Foxx</td>\n",
       "      <td>Tina Fey</td>\n",
       "      <td>Graham Norton</td>\n",
       "      <td>Animation Family Comedy Fantasy Drama</td>\n",
       "      <td>soul</td>\n",
       "      <td>Jamie Foxx Tina Fey Graham Norton Pete Docter ...</td>\n",
       "    </tr>\n",
       "    <tr>\n",
       "      <th>6129</th>\n",
       "      <td>Robert Rodriguez</td>\n",
       "      <td>Priyanka Chopra Jonas</td>\n",
       "      <td>Pedro Pascal</td>\n",
       "      <td>YaYa Gosselin</td>\n",
       "      <td>Family Action Fantasy Comedy</td>\n",
       "      <td>we can be heroes</td>\n",
       "      <td>Priyanka Chopra Jonas Pedro Pascal YaYa Gossel...</td>\n",
       "    </tr>\n",
       "    <tr>\n",
       "      <th>6130</th>\n",
       "      <td>Regina King</td>\n",
       "      <td>Kingsley Ben-Adir</td>\n",
       "      <td>Eli Goree</td>\n",
       "      <td>Aldis Hodge</td>\n",
       "      <td>Drama</td>\n",
       "      <td>one night in miami...</td>\n",
       "      <td>Kingsley Ben-Adir Eli Goree Aldis Hodge Regina...</td>\n",
       "    </tr>\n",
       "    <tr>\n",
       "      <th>6131</th>\n",
       "      <td>Emerald Fennell</td>\n",
       "      <td>Carey Mulligan</td>\n",
       "      <td>Bo Burnham</td>\n",
       "      <td>Alison Brie</td>\n",
       "      <td>Thriller Crime Drama</td>\n",
       "      <td>promising young woman</td>\n",
       "      <td>Carey Mulligan Bo Burnham Alison Brie Emerald ...</td>\n",
       "    </tr>\n",
       "    <tr>\n",
       "      <th>6132</th>\n",
       "      <td>Kornél Mundruczó</td>\n",
       "      <td>Vanessa Kirby</td>\n",
       "      <td>Shia LaBeouf</td>\n",
       "      <td>Molly Parker</td>\n",
       "      <td>Drama</td>\n",
       "      <td>pieces of a woman</td>\n",
       "      <td>Vanessa Kirby Shia LaBeouf Molly Parker Kornél...</td>\n",
       "    </tr>\n",
       "  </tbody>\n",
       "</table>\n",
       "<p>6133 rows × 7 columns</p>\n",
       "</div>"
      ],
      "text/plain": [
       "          director_name           actor_1_name      actor_2_name  \\\n",
       "0         James Cameron            CCH Pounder  Joel David Moore   \n",
       "1        Gore Verbinski            Johnny Depp     Orlando Bloom   \n",
       "2            Sam Mendes        Christoph Waltz      Rory Kinnear   \n",
       "3     Christopher Nolan              Tom Hardy    Christian Bale   \n",
       "4           Doug Walker            Doug Walker        Rob Walker   \n",
       "...                 ...                    ...               ...   \n",
       "6128        Pete Docter             Jamie Foxx          Tina Fey   \n",
       "6129   Robert Rodriguez  Priyanka Chopra Jonas      Pedro Pascal   \n",
       "6130        Regina King      Kingsley Ben-Adir         Eli Goree   \n",
       "6131    Emerald Fennell         Carey Mulligan        Bo Burnham   \n",
       "6132   Kornél Mundruczó          Vanessa Kirby      Shia LaBeouf   \n",
       "\n",
       "              actor_3_name                                 genres  \\\n",
       "0                Wes Studi        Action Adventure Fantasy Sci-Fi   \n",
       "1           Jack Davenport               Action Adventure Fantasy   \n",
       "2         Stephanie Sigman              Action Adventure Thriller   \n",
       "3     Joseph Gordon-Levitt                        Action Thriller   \n",
       "4                  unknown                            Documentary   \n",
       "...                    ...                                    ...   \n",
       "6128         Graham Norton  Animation Family Comedy Fantasy Drama   \n",
       "6129         YaYa Gosselin           Family Action Fantasy Comedy   \n",
       "6130           Aldis Hodge                                  Drama   \n",
       "6131           Alison Brie                   Thriller Crime Drama   \n",
       "6132          Molly Parker                                  Drama   \n",
       "\n",
       "                                            movie_title  \\\n",
       "0                                                avatar   \n",
       "1              pirates of the caribbean: at world's end   \n",
       "2                                               spectre   \n",
       "3                                 the dark knight rises   \n",
       "4     star wars: episode vii - the force awakens    ...   \n",
       "...                                                 ...   \n",
       "6128                                               soul   \n",
       "6129                                   we can be heroes   \n",
       "6130                              one night in miami...   \n",
       "6131                              promising young woman   \n",
       "6132                                  pieces of a woman   \n",
       "\n",
       "                                                   comb  \n",
       "0     CCH Pounder Joel David Moore Wes Studi James C...  \n",
       "1     Johnny Depp Orlando Bloom Jack Davenport Gore ...  \n",
       "2     Christoph Waltz Rory Kinnear Stephanie Sigman ...  \n",
       "3     Tom Hardy Christian Bale Joseph Gordon-Levitt ...  \n",
       "4     Doug Walker Rob Walker unknown Doug Walker Doc...  \n",
       "...                                                 ...  \n",
       "6128  Jamie Foxx Tina Fey Graham Norton Pete Docter ...  \n",
       "6129  Priyanka Chopra Jonas Pedro Pascal YaYa Gossel...  \n",
       "6130  Kingsley Ben-Adir Eli Goree Aldis Hodge Regina...  \n",
       "6131  Carey Mulligan Bo Burnham Alison Brie Emerald ...  \n",
       "6132  Vanessa Kirby Shia LaBeouf Molly Parker Kornél...  \n",
       "\n",
       "[6133 rows x 7 columns]"
      ]
     },
     "execution_count": 78,
     "metadata": {},
     "output_type": "execute_result"
    }
   ],
   "source": [
    "final_df"
   ]
  },
  {
   "cell_type": "code",
   "execution_count": 79,
   "metadata": {
    "id": "gCTWwaOiOZWZ"
   },
   "outputs": [],
   "source": [
    "final_df.to_csv('main_data.csv',index=False)"
   ]
  },
  {
   "cell_type": "code",
   "execution_count": null,
   "metadata": {},
   "outputs": [],
   "source": [
    "## List of references\n",
    "#https://stackoverflow.com/questions/55455733/extract-genres-into-a-list-from-a-dataframe-column\n",
    "#https://medium.com/@sehjadkhoja0/exploratory-data-analysis-of-book-dataset-analyzing-ratings-sentiments-and-genre-2d385620f8d\n",
    "#https://www.webpages.uidaho.edu/~stevel/cheatsheets/Pandas%20DataFrame%20Notes_12pages.pdf\n",
    "#https://towardsdatascience.com/how-to-clean-your-data-in-python-8f178638b98d\n",
    "#https://github.com/AJAX-Movie-Recommendation-System-with-Sentiment-Analysis/tree/master/.ipynb_checkpoints\n",
    "#https://www.geeksforgeeks.org/python-implementation-of-movie-recommender-system/\n",
    "#https://github.com/jalajthanaki/Movie_recommendation_engine/blob/master/Movie_recommendation_engine.ipynb\n",
    "#https://levelup.gitconnected.com/movie-recommendation-system-in-python-162b4d587c7b\n"
   ]
  }
 ],
 "metadata": {
  "colab": {
   "collapsed_sections": [],
   "name": "preprocessing 4.ipynb",
   "provenance": []
  },
  "kernelspec": {
   "display_name": "Python 3 (ipykernel)",
   "language": "python",
   "name": "python3"
  },
  "language_info": {
   "codemirror_mode": {
    "name": "ipython",
    "version": 3
   },
   "file_extension": ".py",
   "mimetype": "text/x-python",
   "name": "python",
   "nbconvert_exporter": "python",
   "pygments_lexer": "ipython3",
   "version": "3.11.5"
  }
 },
 "nbformat": 4,
 "nbformat_minor": 4
}
